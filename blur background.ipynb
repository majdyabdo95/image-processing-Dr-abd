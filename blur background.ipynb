{
 "cells": [
  {
   "cell_type": "code",
   "execution_count": 28,
   "metadata": {},
   "outputs": [
    {
     "ename": "TypeError",
     "evalue": "src2 data type = 0 is not supported",
     "output_type": "error",
     "traceback": [
      "\u001b[1;31m---------------------------------------------------------------------------\u001b[0m",
      "\u001b[1;31mTypeError\u001b[0m                                 Traceback (most recent call last)",
      "\u001b[1;32m<ipython-input-28-499cb30a4710>\u001b[0m in \u001b[0;36m<module>\u001b[1;34m()\u001b[0m\n\u001b[0;32m     19\u001b[0m \u001b[0mbinary2\u001b[0m \u001b[1;33m=\u001b[0m \u001b[1;33m(\u001b[0m\u001b[1;36m255\u001b[0m\u001b[1;33m-\u001b[0m\u001b[0mbinary\u001b[0m\u001b[1;33m)\u001b[0m\u001b[1;33m\u001b[0m\u001b[0m\n\u001b[0;32m     20\u001b[0m \u001b[1;33m\u001b[0m\u001b[0m\n\u001b[1;32m---> 21\u001b[1;33m \u001b[0mfalcon\u001b[0m \u001b[1;33m=\u001b[0m \u001b[0mcv2\u001b[0m\u001b[1;33m.\u001b[0m\u001b[0mmultiply\u001b[0m\u001b[1;33m(\u001b[0m\u001b[0mimage\u001b[0m\u001b[1;33m,\u001b[0m \u001b[0mbinary\u001b[0m\u001b[1;33m)\u001b[0m\u001b[1;33m\u001b[0m\u001b[0m\n\u001b[0m\u001b[0;32m     22\u001b[0m \u001b[1;33m\u001b[0m\u001b[0m\n\u001b[0;32m     23\u001b[0m \u001b[0mfalcon2\u001b[0m \u001b[1;33m=\u001b[0m \u001b[0mcv2\u001b[0m\u001b[1;33m.\u001b[0m\u001b[0mmultiply\u001b[0m\u001b[1;33m(\u001b[0m\u001b[0mimage\u001b[0m\u001b[1;33m,\u001b[0m \u001b[0mbinary2\u001b[0m\u001b[1;33m)\u001b[0m\u001b[1;33m\u001b[0m\u001b[0m\n",
      "\u001b[1;31mTypeError\u001b[0m: src2 data type = 0 is not supported"
     ]
    }
   ],
   "source": [
    "# import opencv\n",
    "import matplotlib.pyplot as plt\n",
    "plt.plot([1,2,3,4,5,6,7,8,9])\n",
    "import cv2\n",
    "import numpy as np\n",
    "\n",
    "# Read image\n",
    "\n",
    "from skimage.filters import threshold_mean\n",
    "\n",
    "\n",
    "image =  cv2.imread(\"f.jpg\", cv2.IMREAD_GRAYSCALE)\n",
    "\n",
    "blur = cv2.blur(image,(6,6))\n",
    "thresh = threshold_mean(blur)\n",
    "\n",
    "binary = blur > thresh\n",
    "\n",
    "binary2 = (255-binary)\n",
    "\n",
    "falcon = cv2.multiply(image, binary)\n",
    "\n",
    "falcon2 = cv2.multiply(image, binary2)\n",
    "\n",
    "result = cv2.add(falcon, falcon2)\n",
    "\n",
    "fig, axes = plt.subplots(ncols=5, figsize=(20, 3))\n",
    "ax = axes.ravel()\n",
    "\n",
    "ax[0].imshow(image, cmap=plt.cm.gray)\n",
    "ax[0].set_title('Original image')\n",
    "\n",
    "ax[1].imshow(image, cmap=plt.cm.gray)\n",
    "ax[1].set_title('Blur image')\n",
    "\n",
    "ax[2].imshow(binary, cmap=plt.cm.gray)\n",
    "ax[2].set_title('Result')\n",
    "\n",
    "ax[3].imshow(binary2, cmap=plt.cm.gray)\n",
    "ax[3].set_title('Result 2')\n",
    "\n",
    "ax[4].imshow(falcon, cmap=plt.cm.gray)\n",
    "ax[4].set_title('Result 3')\n",
    "\n",
    "ax[4].imshow(falcon2, cmap=plt.cm.gray)\n",
    "ax[4].set_title('Result 4')\n",
    "\n",
    "ax[4].imshow(result, cmap=plt.cm.gray)\n",
    "ax[4].set_title('Result 5')\n",
    "\n",
    "\n",
    "for a in ax:\n",
    "    a.axis('off')\n",
    "\n",
    "plt.show()\n"
   ]
  },
  {
   "cell_type": "code",
   "execution_count": null,
   "metadata": {
    "collapsed": true
   },
   "outputs": [],
   "source": []
  }
 ],
 "metadata": {
  "kernelspec": {
   "display_name": "Python 3",
   "language": "python",
   "name": "python3"
  },
  "language_info": {
   "codemirror_mode": {
    "name": "ipython",
    "version": 3
   },
   "file_extension": ".py",
   "mimetype": "text/x-python",
   "name": "python",
   "nbconvert_exporter": "python",
   "pygments_lexer": "ipython3",
   "version": "3.6.1"
  }
 },
 "nbformat": 4,
 "nbformat_minor": 2
}
