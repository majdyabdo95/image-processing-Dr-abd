{
 "cells": [
  {
   "cell_type": "markdown",
   "metadata": {},
   "source": [
    "# Object Detection and Tracking\n",
    "In this project we will try to detect and track the object by using number of features we took in this course.\n",
    "The methodologe we used is not the optimal, but we use it cause it's contain all the course feature, and there is a better methods we will metion it.\n",
    "1. Read the video and collect the first frame, and save it in a picture.\n",
    "2. Converte the video and the first frame into a grey scale.\n",
    "3. After that, we will get the difference between the first frame and continuios video. And that's called \"delta_frame\".\n",
    "4. We will take the threshold of the delta_frame and take the difference between the first frame and the threshold.\n",
    "5. After we detirmine the objects thresholds we will get the contour of all objects, we but a condition to this contour that the object must be bigger than 10000 pixels\n",
    "6. Fter the contour detection, we will draw a regtangle on the object, and this rectangle will track the object.\n",
    "7. At first, we establish a list of states that will change due to the object apperance or disappear from the screen, by changing the list's staes from 0 to 1\n",
    "At those steps, we detiermine the object in an easy way without any comlixities and in efficient way in real time."
   ]
  },
  {
   "cell_type": "code",
   "execution_count": null,
   "metadata": {
    "collapsed": true
   },
   "outputs": [],
   "source": [
    "import cv2, time, pandas\n",
    "from datetime import datetime\n",
    "\n",
    "first_frame=None\n",
    "status_list=[None,None]\n",
    "times=[]\n",
    "df=pandas.DataFrame(columns=[\"Start\",\"End\"])\n",
    "\n",
    "video=cv2.VideoCapture(0)\n",
    "\n",
    "while True:\n",
    "    check, frame = video.read()\n",
    "    status=0\n",
    "    gray=cv2.cvtColor(frame,cv2.COLOR_BGR2GRAY)\n",
    "    gray=cv2.GaussianBlur(gray,(21,21),0)\n",
    "\n",
    "    if first_frame is None:\n",
    "        first_frame=gray\n",
    "        continue\n",
    "\n",
    "    delta_frame=cv2.absdiff(first_frame,gray)\n",
    "    thresh_frame=cv2.threshold(delta_frame, 30, 255, cv2.THRESH_BINARY)[1]\n",
    "    thresh_frame=cv2.dilate(thresh_frame, None, iterations=2)\n",
    "\n",
    "    (_,cnts,_)=cv2.findContours(thresh_frame.copy(),cv2.RETR_EXTERNAL, cv2.CHAIN_APPROX_SIMPLE)\n",
    "\n",
    "    for contour in cnts:\n",
    "        if cv2.contourArea(contour) < 10000:\n",
    "            continue\n",
    "        status=1\n",
    "\n",
    "        (x, y, w, h)=cv2.boundingRect(contour)\n",
    "        cv2.rectangle(frame, (x, y), (x+w, y+h), (0,255,0), 3)\n",
    "    status_list.append(status)\n",
    "\n",
    "    status_list=status_list[-2:]\n",
    "\n",
    "\n",
    "    if status_list[-1]==1 and status_list[-2]==0:\n",
    "        times.append(datetime.now())\n",
    "    if status_list[-1]==0 and status_list[-2]==1:\n",
    "        times.append(datetime.now())\n",
    "\n",
    "\n",
    "    cv2.imshow(\"Gray Frame\",gray)\n",
    "    cv2.imshow(\"Delta Frame\",delta_frame)\n",
    "    cv2.imshow(\"Threshold Frame\",thresh_frame)\n",
    "    cv2.imshow(\"Color Frame\",frame)\n",
    "\n",
    "    key=cv2.waitKey(1)\n",
    "\n",
    "    if key==ord('q'):\n",
    "        if status==1:\n",
    "            times.append(datetime.now())\n",
    "        break\n",
    "\n",
    "print(status_list)\n",
    "print(times)\n",
    "\n",
    "\n",
    "\n",
    "video.release()\n",
    "cv2.destroyAllWindows()\n"
   ]
  },
  {
   "cell_type": "markdown",
   "metadata": {
    "collapsed": true
   },
   "source": [
    "# Other Methodologies (Hough transform)\n",
    "Hough Transform (HT) is one of the useful algorithms in pattern recognition. It is\n",
    "popularly used to detect straight lines, circles and curves in images. This study\n",
    "discovered a new feature detection and extraction using the HT. The intensity of the\n",
    "input image was enhanced and histogram plot of the stretched image was obtained.\n",
    "However, HT functions perform transformation of Hough matrix, locate peak\n",
    "values and superimpose a plot on the features representing the original image.\n",
    "Hence, face features were detected and the extracted features proceeded for\n",
    "verification. Cross Correlation Technique (CCT) and Euclidean Distance (ED) were\n",
    "computed to determine the similarity between test images and neutral image. The\n",
    "experiment on FEI face database demonstrated the effectiveness of the new\n",
    "technique and obtained recognition with minimal error. Furthermore, the application\n",
    "of HT was improved and the benefits of the proposed algorithm were verified. It is\n",
    "believed that, the discovery is new in the domain.\n",
    "\n",
    "we get hough transform from paper we reed it that named : \n",
    "Face Recognition using Hough Transform based Feature Extraction Varun Ra, Yadunandan Vivekanand Kinia, K Manikantana,∗, S Ramachandranb.\n"
   ]
  },
  {
   "cell_type": "markdown",
   "metadata": {},
   "source": [
    "# Students names:\n",
    "1. Majdy Abdo\n",
    "2. Assil Aslan\n",
    "3. Mohannad Hendi\n",
    "4. Mohammad Donbok"
   ]
  }
 ],
 "metadata": {
  "kernelspec": {
   "display_name": "Python 3",
   "language": "python",
   "name": "python3"
  },
  "language_info": {
   "codemirror_mode": {
    "name": "ipython",
    "version": 3
   },
   "file_extension": ".py",
   "mimetype": "text/x-python",
   "name": "python",
   "nbconvert_exporter": "python",
   "pygments_lexer": "ipython3",
   "version": "3.6.1"
  }
 },
 "nbformat": 4,
 "nbformat_minor": 2
}
